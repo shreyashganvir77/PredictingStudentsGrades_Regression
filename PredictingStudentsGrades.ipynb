{
  "nbformat": 4,
  "nbformat_minor": 0,
  "metadata": {
    "colab": {
      "name": "PredictingStudentsGrades.ipynb",
      "provenance": [],
      "authorship_tag": "ABX9TyOf33p+E7avzxNsxUJIMhlZ",
      "include_colab_link": true
    },
    "kernelspec": {
      "name": "python3",
      "display_name": "Python 3"
    },
    "language_info": {
      "name": "python"
    }
  },
  "cells": [
    {
      "cell_type": "markdown",
      "metadata": {
        "id": "view-in-github",
        "colab_type": "text"
      },
      "source": [
        "<a href=\"https://colab.research.google.com/github/shreyashganvir77/PredictingStudentsGrades_Regression/blob/main/PredictingStudentsGrades.ipynb\" target=\"_parent\"><img src=\"https://colab.research.google.com/assets/colab-badge.svg\" alt=\"Open In Colab\"/></a>"
      ]
    },
    {
      "cell_type": "markdown",
      "metadata": {
        "id": "ZT-kEwTTYyYC"
      },
      "source": [
        "Importing the Libraries."
      ]
    },
    {
      "cell_type": "code",
      "metadata": {
        "id": "Q8Ec3h8mY1bj"
      },
      "source": [
        "import pandas as pd\n",
        "import numpy as np\n",
        "import matplotlib.pyplot as plt"
      ],
      "execution_count": 409,
      "outputs": []
    },
    {
      "cell_type": "markdown",
      "metadata": {
        "id": "PUkJain7Y9VD"
      },
      "source": [
        "Importing and Filtering the Dataset."
      ]
    },
    {
      "cell_type": "code",
      "metadata": {
        "id": "PkMtU3yVZAXK"
      },
      "source": [
        "dataset = pd.read_csv('student-mat.csv', sep=';')\n",
        "\n",
        "datasetGP = dataset[dataset['school']=='GP']\n",
        "datasetGP = datasetGP[['studytime', 'failures', 'absences', 'G1', 'G2', 'G3']]\n",
        "\n",
        "datasetMS = dataset[dataset['school']=='MS']\n",
        "datasetMS = datasetMS[['studytime', 'failures', 'absences', 'G1', 'G2', 'G3']]"
      ],
      "execution_count": 423,
      "outputs": []
    },
    {
      "cell_type": "code",
      "metadata": {
        "id": "aUc2qszGVZB1"
      },
      "source": [
        "print(datasetGP.head())"
      ],
      "execution_count": null,
      "outputs": []
    },
    {
      "cell_type": "code",
      "metadata": {
        "id": "vb5dlHzsVZEY"
      },
      "source": [
        "print(datasetMS.head())"
      ],
      "execution_count": null,
      "outputs": []
    },
    {
      "cell_type": "markdown",
      "metadata": {
        "id": "pSTnhfTJk_yH"
      },
      "source": [
        "Splitting the DataSet into Features and Dependent Variable."
      ]
    },
    {
      "cell_type": "code",
      "metadata": {
        "id": "IQ861zuzlHP0"
      },
      "source": [
        "x = datasetGP.iloc[:, :-1].values\n",
        "y = datasetGP.iloc[:, -1].values\n",
        "y.reshape(len(y), 1)"
      ],
      "execution_count": null,
      "outputs": []
    },
    {
      "cell_type": "markdown",
      "metadata": {
        "id": "r3sYNRbGgRy2"
      },
      "source": [
        "Splitting the Dataset into Taining and Test Sets."
      ]
    },
    {
      "cell_type": "code",
      "metadata": {
        "id": "u21kfiLWgW9N"
      },
      "source": [
        "from  sklearn.model_selection import train_test_split\n",
        "x_train, x_test, y_train, y_test = train_test_split(x, y, test_size = 0.30, random_state = 42)\n",
        "y_train = y_train.reshape(len(y_train),1)\n",
        "y_test = y_test.reshape(len(y_test), 1)"
      ],
      "execution_count": 428,
      "outputs": []
    },
    {
      "cell_type": "markdown",
      "metadata": {
        "id": "7-GevcO-hHVS"
      },
      "source": [
        "Feature Scaling."
      ]
    },
    {
      "cell_type": "code",
      "metadata": {
        "id": "Bb_QiRoXg7Q8"
      },
      "source": [
        "# If using LinearRegression model then we can use Feature Scaling for good results.\n",
        "\n",
        "# from sklearn.preprocessing import StandardScaler \n",
        "# sc = StandardScaler()\n",
        "# sc_x = sc.fit(x_train)\n",
        "# sc_y = sc.fit(y_train)\n",
        "# x_train = sc_x.transform(x_train)\n",
        "# x_test = sc_x.transform(x_test)\n",
        "# y_train = sc_y.transform(y_train)\n",
        "# y_test = sc_y.transform(y_test)"
      ],
      "execution_count": 413,
      "outputs": []
    },
    {
      "cell_type": "markdown",
      "metadata": {
        "id": "cA0zmi5OoQOO"
      },
      "source": [
        "Training the Linear Regression Model on Training Set as LinearRegression."
      ]
    },
    {
      "cell_type": "code",
      "metadata": {
        "id": "NDPw3fkUobCe"
      },
      "source": [
        "# from sklearn.linear_model import LinearRegression\n",
        "# regressor = LinearRegression()\n",
        "# regressor.fit(x_train, y_train)"
      ],
      "execution_count": 414,
      "outputs": []
    },
    {
      "cell_type": "markdown",
      "metadata": {
        "id": "PmpPoA4--br6"
      },
      "source": [
        "Training the Linear Regression Model on Training Set as DecisionTree Regression."
      ]
    },
    {
      "cell_type": "code",
      "metadata": {
        "id": "kO4i-yF3-h_Z"
      },
      "source": [
        "# from sklearn.tree import DecisionTreeRegressor\n",
        "# regressor = DecisionTreeRegressor()\n",
        "# regressor.fit(x_train, y_train)"
      ],
      "execution_count": 415,
      "outputs": []
    },
    {
      "cell_type": "markdown",
      "metadata": {
        "id": "dQa13eDY-8nV"
      },
      "source": [
        "Training the Linear Regression Model on Training Set as SVR."
      ]
    },
    {
      "cell_type": "code",
      "metadata": {
        "colab": {
          "base_uri": "https://localhost:8080/"
        },
        "id": "C9RElKbx-_vK",
        "outputId": "63fedb5b-09a6-4c4b-a10c-62ea209342e8"
      },
      "source": [
        "from sklearn.ensemble import RandomForestRegressor\n",
        "regressor = RandomForestRegressor(n_estimators = 10, random_state = 42)\n",
        "regressor.fit(x, y)"
      ],
      "execution_count": 429,
      "outputs": [
        {
          "output_type": "execute_result",
          "data": {
            "text/plain": [
              "RandomForestRegressor(bootstrap=True, ccp_alpha=0.0, criterion='mse',\n",
              "                      max_depth=None, max_features='auto', max_leaf_nodes=None,\n",
              "                      max_samples=None, min_impurity_decrease=0.0,\n",
              "                      min_impurity_split=None, min_samples_leaf=1,\n",
              "                      min_samples_split=2, min_weight_fraction_leaf=0.0,\n",
              "                      n_estimators=10, n_jobs=None, oob_score=False,\n",
              "                      random_state=42, verbose=0, warm_start=False)"
            ]
          },
          "metadata": {
            "tags": []
          },
          "execution_count": 429
        }
      ]
    },
    {
      "cell_type": "markdown",
      "metadata": {
        "id": "3onvbaPDpANg"
      },
      "source": [
        "Predicting the Model."
      ]
    },
    {
      "cell_type": "code",
      "metadata": {
        "colab": {
          "base_uri": "https://localhost:8080/"
        },
        "id": "Fymj42ZxpCSC",
        "outputId": "f6196405-58d5-41c8-a273-012450830052"
      },
      "source": [
        "y_pred = regressor.predict(x_test)\n",
        "regressor.score(x_test, y_test)"
      ],
      "execution_count": 430,
      "outputs": [
        {
          "output_type": "execute_result",
          "data": {
            "text/plain": [
              "0.9628664332756752"
            ]
          },
          "metadata": {
            "tags": []
          },
          "execution_count": 430
        }
      ]
    },
    {
      "cell_type": "markdown",
      "metadata": {
        "id": "rTAFu8zmpYw4"
      },
      "source": [
        "Results."
      ]
    },
    {
      "cell_type": "code",
      "metadata": {
        "colab": {
          "base_uri": "https://localhost:8080/"
        },
        "id": "nPHdmY6jpYRR",
        "outputId": "43a54d0b-3359-41db-d40b-fc49a42e7f88"
      },
      "source": [
        "print(np.concatenate((y_test.reshape(len(y_test),1), y_pred.reshape(len(y_pred),1)), axis = 1))"
      ],
      "execution_count": 431,
      "outputs": [
        {
          "output_type": "stream",
          "text": [
            "[[10.          9.8       ]\n",
            " [ 0.          4.        ]\n",
            " [11.         11.1       ]\n",
            " [ 6.          6.8       ]\n",
            " [ 8.          8.        ]\n",
            " [10.         10.59166667]\n",
            " [13.         13.2       ]\n",
            " [12.         11.9       ]\n",
            " [ 8.          8.        ]\n",
            " [11.         11.7       ]\n",
            " [10.          9.9       ]\n",
            " [ 8.          4.43      ]\n",
            " [ 0.          2.4       ]\n",
            " [11.         11.        ]\n",
            " [ 0.          1.8       ]\n",
            " [13.         13.1       ]\n",
            " [ 8.          8.1       ]\n",
            " [11.         10.7       ]\n",
            " [15.         15.1297619 ]\n",
            " [ 8.          7.2       ]\n",
            " [13.         12.9       ]\n",
            " [ 6.          7.7       ]\n",
            " [17.         17.25      ]\n",
            " [11.         11.        ]\n",
            " [ 6.          5.9       ]\n",
            " [ 8.          8.        ]\n",
            " [11.         11.4       ]\n",
            " [15.         15.1297619 ]\n",
            " [10.          9.9       ]\n",
            " [15.         15.1297619 ]\n",
            " [14.         13.8       ]\n",
            " [ 6.          5.9       ]\n",
            " [16.         15.37333333]\n",
            " [13.         13.1       ]\n",
            " [12.         11.8       ]\n",
            " [10.          9.5       ]\n",
            " [18.         18.08      ]\n",
            " [12.         11.6       ]\n",
            " [10.         10.        ]\n",
            " [10.         10.7       ]\n",
            " [19.         18.7       ]\n",
            " [10.          9.68333333]\n",
            " [ 0.          1.5       ]\n",
            " [15.         15.        ]\n",
            " [15.         15.        ]\n",
            " [10.         10.1       ]\n",
            " [15.         15.        ]\n",
            " [14.         14.2       ]\n",
            " [14.         12.4       ]\n",
            " [15.         14.9       ]\n",
            " [17.         16.7       ]\n",
            " [15.         14.7       ]\n",
            " [13.         13.2       ]\n",
            " [16.         15.8       ]\n",
            " [12.         12.2       ]\n",
            " [11.         11.        ]\n",
            " [11.         11.6       ]\n",
            " [ 6.          5.8       ]\n",
            " [ 5.          6.        ]\n",
            " [ 9.          9.5       ]\n",
            " [11.         12.08      ]\n",
            " [12.         11.4       ]\n",
            " [ 9.          8.49166667]\n",
            " [10.          9.83333333]\n",
            " [10.         10.4       ]\n",
            " [14.         13.4       ]\n",
            " [12.         12.7       ]\n",
            " [11.         10.34333333]\n",
            " [10.          6.18      ]\n",
            " [16.         15.6       ]\n",
            " [ 9.          8.8       ]\n",
            " [10.          9.6       ]\n",
            " [ 8.          7.2       ]\n",
            " [14.         14.1       ]\n",
            " [12.         12.1       ]\n",
            " [12.         12.        ]\n",
            " [ 6.          5.9       ]\n",
            " [19.         18.7       ]\n",
            " [10.         10.        ]\n",
            " [ 0.          1.        ]\n",
            " [11.         11.2       ]\n",
            " [ 0.          0.        ]\n",
            " [ 0.          0.        ]\n",
            " [17.         17.25      ]\n",
            " [12.         11.9       ]\n",
            " [11.         10.5       ]\n",
            " [16.         15.8       ]\n",
            " [ 5.          5.6       ]\n",
            " [ 8.          6.9       ]\n",
            " [ 8.          8.2       ]\n",
            " [13.         13.8       ]\n",
            " [10.          9.55      ]\n",
            " [ 0.          1.6       ]\n",
            " [ 8.          8.49166667]\n",
            " [ 8.          8.        ]\n",
            " [14.         14.3       ]\n",
            " [17.         16.4       ]\n",
            " [ 0.          1.6       ]\n",
            " [14.         13.68      ]\n",
            " [10.          9.9       ]\n",
            " [12.         12.6       ]\n",
            " [14.         13.9       ]\n",
            " [ 9.          9.2       ]\n",
            " [ 0.          0.        ]\n",
            " [10.          9.75      ]]\n"
          ],
          "name": "stdout"
        }
      ]
    }
  ]
}