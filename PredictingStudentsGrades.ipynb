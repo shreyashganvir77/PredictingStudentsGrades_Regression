{
  "nbformat": 4,
  "nbformat_minor": 0,
  "metadata": {
    "colab": {
      "name": "PredictingStudentsGrades.ipynb",
      "provenance": [],
      "authorship_tag": "ABX9TyOTpa/esYkEnrPC7Q26YtEO",
      "include_colab_link": true
    },
    "kernelspec": {
      "name": "python3",
      "display_name": "Python 3"
    },
    "language_info": {
      "name": "python"
    }
  },
  "cells": [
    {
      "cell_type": "markdown",
      "metadata": {
        "id": "view-in-github",
        "colab_type": "text"
      },
      "source": [
        "<a href=\"https://colab.research.google.com/github/shreyashganvir77/PredictingStudentsGrades_Regression/blob/main/PredictingStudentsGrades.ipynb\" target=\"_parent\"><img src=\"https://colab.research.google.com/assets/colab-badge.svg\" alt=\"Open In Colab\"/></a>"
      ]
    },
    {
      "cell_type": "markdown",
      "metadata": {
        "id": "ZT-kEwTTYyYC"
      },
      "source": [
        "Importing the Libraries."
      ]
    },
    {
      "cell_type": "code",
      "metadata": {
        "id": "Q8Ec3h8mY1bj"
      },
      "source": [
        "import pandas as pd\n",
        "import numpy as np\n",
        "import matplotlib.pyplot as plt"
      ],
      "execution_count": 293,
      "outputs": []
    },
    {
      "cell_type": "markdown",
      "metadata": {
        "id": "PUkJain7Y9VD"
      },
      "source": [
        "Importing and Filtering the Dataset."
      ]
    },
    {
      "cell_type": "code",
      "metadata": {
        "id": "PkMtU3yVZAXK"
      },
      "source": [
        "# Theere are two schools in the database GP and MS\n",
        "# For each of the schools the relavant data is filtered from the dataset using pandas library.\n",
        "# These datasets are decalred as datasetGP for GP school and datsetMS for MS school.\n",
        "\n",
        "dataset = pd.read_csv('student-mat.csv', sep=';')\n",
        "\n",
        "datasetGP = dataset[dataset['school']=='GP']\n",
        "datasetGP = datasetGP[['studytime', 'failures', 'absences', 'G1', 'G2', 'G3']]\n",
        "\n",
        "datasetMS = dataset[dataset['school']=='MS']\n",
        "datasetMS = datasetMS[['studytime', 'failures', 'absences', 'G1', 'G2', 'G3']]"
      ],
      "execution_count": 294,
      "outputs": []
    },
    {
      "cell_type": "code",
      "metadata": {
        "colab": {
          "base_uri": "https://localhost:8080/"
        },
        "id": "aUc2qszGVZB1",
        "outputId": "d197fee1-7228-4412-a02c-bb27175eb6a4"
      },
      "source": [
        "print(datasetGP.head())"
      ],
      "execution_count": 295,
      "outputs": [
        {
          "output_type": "stream",
          "text": [
            "   studytime  failures  absences  G1  G2  G3\n",
            "0          2         0         6   5   6   6\n",
            "1          2         0         4   5   5   6\n",
            "2          2         3        10   7   8  10\n",
            "3          3         0         2  15  14  15\n",
            "4          2         0         4   6  10  10\n"
          ],
          "name": "stdout"
        }
      ]
    },
    {
      "cell_type": "code",
      "metadata": {
        "colab": {
          "base_uri": "https://localhost:8080/"
        },
        "id": "vb5dlHzsVZEY",
        "outputId": "7e53f062-d4d5-47cd-b395-b23c2a6b9927"
      },
      "source": [
        "print(datasetMS.head())"
      ],
      "execution_count": 296,
      "outputs": [
        {
          "output_type": "stream",
          "text": [
            "     studytime  failures  absences  G1  G2  G3\n",
            "349          1         1        10  11  13  13\n",
            "350          2         3         8   8   7   8\n",
            "351          2         0         2  13  13  13\n",
            "352          1         1         7   8   7   8\n",
            "353          1         1         4   8   8   8\n"
          ],
          "name": "stdout"
        }
      ]
    },
    {
      "cell_type": "markdown",
      "metadata": {
        "id": "Q1rg0L5kuo4a"
      },
      "source": [
        "Select the School Database."
      ]
    },
    {
      "cell_type": "code",
      "metadata": {
        "id": "JsO8ORRVuv9e"
      },
      "source": [
        "# This function helps us to select dataset for schools.\n",
        "\n",
        "def selectDatabase(db):\n",
        "  if (db=='GP'):\n",
        "    data = datasetGP\n",
        "    print('GP school data selected')\n",
        "    return data\n",
        "  elif (db=='MS'):\n",
        "    data = datasetMS\n",
        "    print('MS school data selected')\n",
        "    return data\n",
        "  else:\n",
        "    print('Select a data for GP or MS school')"
      ],
      "execution_count": 297,
      "outputs": []
    },
    {
      "cell_type": "code",
      "metadata": {
        "colab": {
          "base_uri": "https://localhost:8080/"
        },
        "id": "kjjogw8kvBsf",
        "outputId": "0dbccbf2-ba1c-4b94-ce31-a00c71e6010a"
      },
      "source": [
        "data = selectDatabase('GP')\n",
        "print(data.head())"
      ],
      "execution_count": 298,
      "outputs": [
        {
          "output_type": "stream",
          "text": [
            "GP school data selected\n",
            "   studytime  failures  absences  G1  G2  G3\n",
            "0          2         0         6   5   6   6\n",
            "1          2         0         4   5   5   6\n",
            "2          2         3        10   7   8  10\n",
            "3          3         0         2  15  14  15\n",
            "4          2         0         4   6  10  10\n"
          ],
          "name": "stdout"
        }
      ]
    },
    {
      "cell_type": "markdown",
      "metadata": {
        "id": "pSTnhfTJk_yH"
      },
      "source": [
        "Splitting the DataSet into Features and Dependent Variable."
      ]
    },
    {
      "cell_type": "code",
      "metadata": {
        "colab": {
          "base_uri": "https://localhost:8080/"
        },
        "id": "IQ861zuzlHP0",
        "outputId": "326a54c8-86ab-4d87-83b3-a604e11aaf72"
      },
      "source": [
        "x = data.iloc[:, :-1].values\n",
        "y = data.iloc[:, -1].values\n",
        "y.reshape(len(y), 1)"
      ],
      "execution_count": 299,
      "outputs": [
        {
          "output_type": "execute_result",
          "data": {
            "text/plain": [
              "array([[ 6],\n",
              "       [ 6],\n",
              "       [10],\n",
              "       [15],\n",
              "       [10],\n",
              "       [15],\n",
              "       [11],\n",
              "       [ 6],\n",
              "       [19],\n",
              "       [15],\n",
              "       [ 9],\n",
              "       [12],\n",
              "       [14],\n",
              "       [11],\n",
              "       [16],\n",
              "       [14],\n",
              "       [14],\n",
              "       [10],\n",
              "       [ 5],\n",
              "       [10],\n",
              "       [15],\n",
              "       [15],\n",
              "       [16],\n",
              "       [12],\n",
              "       [ 8],\n",
              "       [ 8],\n",
              "       [11],\n",
              "       [15],\n",
              "       [11],\n",
              "       [11],\n",
              "       [12],\n",
              "       [17],\n",
              "       [16],\n",
              "       [12],\n",
              "       [15],\n",
              "       [ 6],\n",
              "       [18],\n",
              "       [15],\n",
              "       [11],\n",
              "       [13],\n",
              "       [11],\n",
              "       [12],\n",
              "       [18],\n",
              "       [11],\n",
              "       [ 9],\n",
              "       [ 6],\n",
              "       [11],\n",
              "       [20],\n",
              "       [14],\n",
              "       [ 7],\n",
              "       [13],\n",
              "       [13],\n",
              "       [10],\n",
              "       [11],\n",
              "       [13],\n",
              "       [10],\n",
              "       [15],\n",
              "       [15],\n",
              "       [ 9],\n",
              "       [16],\n",
              "       [11],\n",
              "       [11],\n",
              "       [ 9],\n",
              "       [ 9],\n",
              "       [10],\n",
              "       [15],\n",
              "       [12],\n",
              "       [ 6],\n",
              "       [ 8],\n",
              "       [16],\n",
              "       [15],\n",
              "       [10],\n",
              "       [ 5],\n",
              "       [14],\n",
              "       [11],\n",
              "       [10],\n",
              "       [10],\n",
              "       [11],\n",
              "       [10],\n",
              "       [ 5],\n",
              "       [12],\n",
              "       [11],\n",
              "       [ 6],\n",
              "       [15],\n",
              "       [10],\n",
              "       [ 8],\n",
              "       [ 6],\n",
              "       [14],\n",
              "       [10],\n",
              "       [ 7],\n",
              "       [ 8],\n",
              "       [18],\n",
              "       [ 6],\n",
              "       [10],\n",
              "       [14],\n",
              "       [10],\n",
              "       [15],\n",
              "       [10],\n",
              "       [14],\n",
              "       [ 8],\n",
              "       [ 5],\n",
              "       [17],\n",
              "       [14],\n",
              "       [ 6],\n",
              "       [18],\n",
              "       [11],\n",
              "       [ 8],\n",
              "       [18],\n",
              "       [13],\n",
              "       [16],\n",
              "       [19],\n",
              "       [10],\n",
              "       [13],\n",
              "       [19],\n",
              "       [ 9],\n",
              "       [16],\n",
              "       [14],\n",
              "       [13],\n",
              "       [ 8],\n",
              "       [13],\n",
              "       [15],\n",
              "       [15],\n",
              "       [13],\n",
              "       [13],\n",
              "       [ 8],\n",
              "       [12],\n",
              "       [11],\n",
              "       [ 9],\n",
              "       [ 0],\n",
              "       [18],\n",
              "       [ 0],\n",
              "       [ 0],\n",
              "       [12],\n",
              "       [11],\n",
              "       [ 0],\n",
              "       [ 0],\n",
              "       [ 0],\n",
              "       [ 0],\n",
              "       [12],\n",
              "       [15],\n",
              "       [ 0],\n",
              "       [ 9],\n",
              "       [11],\n",
              "       [13],\n",
              "       [ 0],\n",
              "       [11],\n",
              "       [ 0],\n",
              "       [11],\n",
              "       [ 0],\n",
              "       [10],\n",
              "       [ 0],\n",
              "       [14],\n",
              "       [10],\n",
              "       [ 0],\n",
              "       [12],\n",
              "       [ 8],\n",
              "       [13],\n",
              "       [10],\n",
              "       [15],\n",
              "       [12],\n",
              "       [ 0],\n",
              "       [ 7],\n",
              "       [ 0],\n",
              "       [10],\n",
              "       [ 7],\n",
              "       [12],\n",
              "       [10],\n",
              "       [16],\n",
              "       [ 0],\n",
              "       [14],\n",
              "       [ 0],\n",
              "       [16],\n",
              "       [10],\n",
              "       [ 0],\n",
              "       [ 9],\n",
              "       [ 9],\n",
              "       [11],\n",
              "       [ 6],\n",
              "       [ 9],\n",
              "       [11],\n",
              "       [ 8],\n",
              "       [12],\n",
              "       [17],\n",
              "       [ 8],\n",
              "       [12],\n",
              "       [11],\n",
              "       [11],\n",
              "       [15],\n",
              "       [ 9],\n",
              "       [10],\n",
              "       [13],\n",
              "       [ 9],\n",
              "       [ 8],\n",
              "       [10],\n",
              "       [14],\n",
              "       [15],\n",
              "       [16],\n",
              "       [10],\n",
              "       [18],\n",
              "       [10],\n",
              "       [16],\n",
              "       [10],\n",
              "       [10],\n",
              "       [ 6],\n",
              "       [11],\n",
              "       [ 9],\n",
              "       [ 7],\n",
              "       [13],\n",
              "       [10],\n",
              "       [ 7],\n",
              "       [ 8],\n",
              "       [13],\n",
              "       [14],\n",
              "       [ 8],\n",
              "       [10],\n",
              "       [15],\n",
              "       [ 4],\n",
              "       [ 8],\n",
              "       [ 8],\n",
              "       [10],\n",
              "       [ 6],\n",
              "       [ 0],\n",
              "       [17],\n",
              "       [13],\n",
              "       [14],\n",
              "       [ 7],\n",
              "       [15],\n",
              "       [12],\n",
              "       [ 9],\n",
              "       [12],\n",
              "       [14],\n",
              "       [11],\n",
              "       [ 9],\n",
              "       [13],\n",
              "       [ 6],\n",
              "       [10],\n",
              "       [13],\n",
              "       [12],\n",
              "       [11],\n",
              "       [ 0],\n",
              "       [12],\n",
              "       [12],\n",
              "       [ 0],\n",
              "       [12],\n",
              "       [ 0],\n",
              "       [18],\n",
              "       [13],\n",
              "       [ 8],\n",
              "       [ 5],\n",
              "       [15],\n",
              "       [ 8],\n",
              "       [10],\n",
              "       [ 8],\n",
              "       [ 8],\n",
              "       [12],\n",
              "       [ 8],\n",
              "       [13],\n",
              "       [11],\n",
              "       [14],\n",
              "       [ 0],\n",
              "       [18],\n",
              "       [ 8],\n",
              "       [12],\n",
              "       [ 9],\n",
              "       [ 0],\n",
              "       [17],\n",
              "       [10],\n",
              "       [11],\n",
              "       [10],\n",
              "       [ 0],\n",
              "       [ 9],\n",
              "       [14],\n",
              "       [11],\n",
              "       [14],\n",
              "       [10],\n",
              "       [12],\n",
              "       [ 9],\n",
              "       [ 9],\n",
              "       [ 8],\n",
              "       [10],\n",
              "       [ 8],\n",
              "       [10],\n",
              "       [12],\n",
              "       [10],\n",
              "       [11],\n",
              "       [11],\n",
              "       [19],\n",
              "       [12],\n",
              "       [14],\n",
              "       [15],\n",
              "       [11],\n",
              "       [15],\n",
              "       [13],\n",
              "       [18],\n",
              "       [14],\n",
              "       [11],\n",
              "       [ 0],\n",
              "       [ 8],\n",
              "       [14],\n",
              "       [16],\n",
              "       [11],\n",
              "       [10],\n",
              "       [14],\n",
              "       [18],\n",
              "       [13],\n",
              "       [12],\n",
              "       [18],\n",
              "       [ 8],\n",
              "       [12],\n",
              "       [10],\n",
              "       [ 0],\n",
              "       [13],\n",
              "       [11],\n",
              "       [11],\n",
              "       [13],\n",
              "       [11],\n",
              "       [ 0],\n",
              "       [ 9],\n",
              "       [10],\n",
              "       [11],\n",
              "       [13],\n",
              "       [ 9],\n",
              "       [11],\n",
              "       [15],\n",
              "       [15],\n",
              "       [11],\n",
              "       [16],\n",
              "       [10],\n",
              "       [ 9],\n",
              "       [14],\n",
              "       [ 8],\n",
              "       [14],\n",
              "       [ 0],\n",
              "       [ 0],\n",
              "       [ 0],\n",
              "       [15],\n",
              "       [13],\n",
              "       [ 0],\n",
              "       [17],\n",
              "       [10],\n",
              "       [11],\n",
              "       [ 0],\n",
              "       [15],\n",
              "       [ 0],\n",
              "       [10],\n",
              "       [14],\n",
              "       [16],\n",
              "       [ 9],\n",
              "       [15]])"
            ]
          },
          "metadata": {
            "tags": []
          },
          "execution_count": 299
        }
      ]
    },
    {
      "cell_type": "markdown",
      "metadata": {
        "id": "r3sYNRbGgRy2"
      },
      "source": [
        "Splitting the Dataset into Taining and Test Sets."
      ]
    },
    {
      "cell_type": "code",
      "metadata": {
        "id": "u21kfiLWgW9N"
      },
      "source": [
        "from  sklearn.model_selection import train_test_split\n",
        "x_train, x_test, y_train, y_test = train_test_split(x, y, test_size = 0.30, random_state = 42)"
      ],
      "execution_count": 300,
      "outputs": []
    },
    {
      "cell_type": "markdown",
      "metadata": {
        "id": "7-GevcO-hHVS"
      },
      "source": [
        "Feature Scaling."
      ]
    },
    {
      "cell_type": "code",
      "metadata": {
        "id": "Bb_QiRoXg7Q8"
      },
      "source": [
        "# If using LinearRegression model then we can use Feature Scaling for good results.\n",
        "\n",
        "# from sklearn.preprocessing import StandardScaler \n",
        "# sc = StandardScaler()\n",
        "# sc_x = sc.fit(x_train)\n",
        "# sc_y = sc.fit(y_train)\n",
        "# x_train = sc_x.transform(x_train)\n",
        "# x_test = sc_x.transform(x_test)\n",
        "# y_train = sc_y.transform(y_train)\n",
        "# y_test = sc_y.transform(y_test)"
      ],
      "execution_count": 301,
      "outputs": []
    },
    {
      "cell_type": "markdown",
      "metadata": {
        "id": "eSq20IUHnQ99"
      },
      "source": [
        "Runnig Different models on the Training Set."
      ]
    },
    {
      "cell_type": "code",
      "metadata": {
        "id": "EGWJXNXlmsMj"
      },
      "source": [
        "# Three models are used to select the most effective.\n",
        "# We can change the running model by changing the model no for the specified models.\n",
        "\n",
        "from sklearn.linear_model import LinearRegression\n",
        "from sklearn.tree import DecisionTreeRegressor\n",
        "from sklearn.ensemble import RandomForestRegressor\n",
        "\n",
        "def selectModel(model):\n",
        "  if (model == 0):\n",
        "    regressor = LinearRegression()\n",
        "    regressor.fit(x_train, y_train)\n",
        "    return regressor\n",
        "  elif (model == 1):\n",
        "    regressor = DecisionTreeRegressor()\n",
        "    regressor.fit(x_train, y_train)\n",
        "    return regressor\n",
        "  elif (model == 2):\n",
        "    regressor = RandomForestRegressor(n_estimators=100, random_state=42)\n",
        "    regressor.fit(x_train, y_train)\n",
        "    return regressor\n",
        "  else:\n",
        "    print('Select a number form 0-2')\n",
        "    print('0 - Multiple Linear Regression')\n",
        "    print('1 - Decision Tree Regression')\n",
        "    print('2 - Random Forest Regression')"
      ],
      "execution_count": 302,
      "outputs": []
    },
    {
      "cell_type": "code",
      "metadata": {
        "id": "eI3xwM16nsMS"
      },
      "source": [
        "regressor = selectModel(2)"
      ],
      "execution_count": 303,
      "outputs": []
    },
    {
      "cell_type": "markdown",
      "metadata": {
        "id": "3onvbaPDpANg"
      },
      "source": [
        "Predicting the Model Result."
      ]
    },
    {
      "cell_type": "code",
      "metadata": {
        "colab": {
          "base_uri": "https://localhost:8080/"
        },
        "id": "Fymj42ZxpCSC",
        "outputId": "fc2c7918-68c8-4755-8983-716445e1940c"
      },
      "source": [
        "y_pred = regressor.predict(x_test)\n",
        "regressor.score(x_test, y_test)"
      ],
      "execution_count": 304,
      "outputs": [
        {
          "output_type": "execute_result",
          "data": {
            "text/plain": [
              "0.8249337367690465"
            ]
          },
          "metadata": {
            "tags": []
          },
          "execution_count": 304
        }
      ]
    },
    {
      "cell_type": "markdown",
      "metadata": {
        "id": "rTAFu8zmpYw4"
      },
      "source": [
        "Results."
      ]
    },
    {
      "cell_type": "code",
      "metadata": {
        "colab": {
          "base_uri": "https://localhost:8080/"
        },
        "id": "nPHdmY6jpYRR",
        "outputId": "8a2475c9-2968-43dd-adb2-858b337e64a9"
      },
      "source": [
        "print(np.concatenate((y_test.reshape(len(y_test),1), y_pred.reshape(len(y_pred),1)), axis = 1))"
      ],
      "execution_count": 305,
      "outputs": [
        {
          "output_type": "stream",
          "text": [
            "[[10.          9.04      ]\n",
            " [ 0.          9.38      ]\n",
            " [11.         11.625     ]\n",
            " [ 6.          7.28      ]\n",
            " [ 8.          9.46633333]\n",
            " [10.         10.58      ]\n",
            " [13.         14.13      ]\n",
            " [12.         10.98016667]\n",
            " [ 8.          7.53      ]\n",
            " [11.         12.89      ]\n",
            " [10.          9.66      ]\n",
            " [ 8.          2.22321429]\n",
            " [ 0.          2.045     ]\n",
            " [11.          8.6825    ]\n",
            " [ 0.          2.1125    ]\n",
            " [13.         13.12666667]\n",
            " [ 8.          9.265     ]\n",
            " [11.         10.465     ]\n",
            " [15.         15.685     ]\n",
            " [ 8.          7.45      ]\n",
            " [13.         12.96666667]\n",
            " [ 6.          8.47      ]\n",
            " [17.         18.11266667]\n",
            " [11.         11.0835    ]\n",
            " [ 6.          6.28      ]\n",
            " [ 8.          7.93      ]\n",
            " [11.         10.6775    ]\n",
            " [15.         15.685     ]\n",
            " [10.          9.6425    ]\n",
            " [15.         15.685     ]\n",
            " [14.         13.51      ]\n",
            " [ 6.          5.23      ]\n",
            " [16.         14.98357143]\n",
            " [13.         12.96666667]\n",
            " [12.         11.33      ]\n",
            " [10.          9.62333333]\n",
            " [18.         18.86666667]\n",
            " [12.         10.05533333]\n",
            " [10.          9.68      ]\n",
            " [10.         11.13      ]\n",
            " [19.         18.65      ]\n",
            " [10.          9.39      ]\n",
            " [ 0.          4.6105    ]\n",
            " [15.         15.037     ]\n",
            " [15.         15.26      ]\n",
            " [10.          9.9725    ]\n",
            " [15.         15.29      ]\n",
            " [14.         14.27      ]\n",
            " [14.         11.17      ]\n",
            " [15.         14.70833333]\n",
            " [17.         15.14      ]\n",
            " [15.         14.0225    ]\n",
            " [13.         13.59233333]\n",
            " [16.         15.22      ]\n",
            " [12.         12.81      ]\n",
            " [11.         10.907     ]\n",
            " [11.         12.74      ]\n",
            " [ 6.          5.84      ]\n",
            " [ 5.          5.49      ]\n",
            " [ 9.          9.5       ]\n",
            " [11.         12.9       ]\n",
            " [12.          8.28      ]\n",
            " [ 9.          9.306     ]\n",
            " [10.          9.35      ]\n",
            " [10.         10.915     ]\n",
            " [14.         13.64066667]\n",
            " [12.         13.17516667]\n",
            " [11.         10.0345    ]\n",
            " [10.          1.77      ]\n",
            " [16.         15.215     ]\n",
            " [ 9.          8.89      ]\n",
            " [10.          8.86833333]\n",
            " [ 8.          2.1175    ]\n",
            " [14.         14.1625    ]\n",
            " [12.         13.78      ]\n",
            " [12.         12.07      ]\n",
            " [ 6.          5.36      ]\n",
            " [19.         18.68      ]\n",
            " [10.          9.715     ]\n",
            " [ 0.          1.86      ]\n",
            " [11.         10.76583333]\n",
            " [ 0.          0.18      ]\n",
            " [ 0.          0.23      ]\n",
            " [17.         18.166     ]\n",
            " [12.         11.64      ]\n",
            " [11.          9.89666667]\n",
            " [16.         15.03      ]\n",
            " [ 5.          6.05      ]\n",
            " [ 8.          8.1995    ]\n",
            " [ 8.          8.06      ]\n",
            " [13.         14.25      ]\n",
            " [10.          9.37      ]\n",
            " [ 0.          4.9915    ]\n",
            " [ 8.          9.306     ]\n",
            " [ 8.          8.95      ]\n",
            " [14.         14.35      ]\n",
            " [17.         16.04238095]\n",
            " [ 0.          1.855     ]\n",
            " [14.         13.53      ]\n",
            " [10.          9.53      ]\n",
            " [12.         12.895     ]\n",
            " [14.         14.35      ]\n",
            " [ 9.          9.35933333]\n",
            " [ 0.          1.35333333]\n",
            " [10.          9.64      ]]\n"
          ],
          "name": "stdout"
        }
      ]
    }
  ]
}